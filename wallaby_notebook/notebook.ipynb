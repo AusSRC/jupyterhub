{
 "cells": [
  {
   "cell_type": "markdown",
   "metadata": {},
   "source": [
    "# WALLABY Notebook\n",
    "\n",
    "A Jupyter Notebook deployment of a Python environment with access to the WALLABY database. We use [Django models](https://docs.djangoproject.com/en/3.1/topics/db/models/) to generate SQL queries from your Python code. Here are some details about your workspace:\n",
    "\n",
    "* Python version = 3.8.6\n",
    "* 16 GB RAM"
   ]
  },
  {
   "cell_type": "code",
   "execution_count": null,
   "metadata": {},
   "outputs": [],
   "source": [
    "# ------- RUN THIS CELL FIRST -------\n",
    "\n",
    "# import Python standard libraries\n",
    "import os\n",
    "import sys\n",
    "import json\n",
    "import django\n",
    "from datetime import datetime\n",
    "\n",
    "# Django setup\n",
    "sys.path.append('src/')\n",
    "django.setup()\n",
    "\n",
    "# Import Django models\n",
    "from run.models import Run\n",
    "from instance.models import Instance\n",
    "from detection.models import Detection\n",
    "\n",
    "from sources.models import Sources\n",
    "from comments.models import Comments\n",
    "from tag.models import Tag"
   ]
  },
  {
   "cell_type": "markdown",
   "metadata": {},
   "source": [
    "# Your space\n",
    "\n",
    "With the libraries imported, you should be able to start writing your custom code (and [Markdown](https://www.markdownguide.org/cheat-sheet) for formatting your document) below. The imports have worked succesfully by running the cell below and see a `<Queryset [...]>` object."
   ]
  },
  {
   "cell_type": "code",
   "execution_count": null,
   "metadata": {},
   "outputs": [],
   "source": [
    "detections = Run.objects.all()\n",
    "print(detections)"
   ]
  },
  {
   "cell_type": "code",
   "execution_count": null,
   "metadata": {},
   "outputs": [],
   "source": []
  }
 ],
 "metadata": {
  "kernelspec": {
   "display_name": "Django Shell-Plus",
   "language": "python",
   "name": "django_extensions"
  },
  "language_info": {
   "codemirror_mode": {
    "name": "ipython",
    "version": 3
   },
   "file_extension": ".py",
   "mimetype": "text/x-python",
   "name": "python",
   "nbconvert_exporter": "python",
   "pygments_lexer": "ipython3",
   "version": "3.9.1"
  }
 },
 "nbformat": 4,
 "nbformat_minor": 4
}