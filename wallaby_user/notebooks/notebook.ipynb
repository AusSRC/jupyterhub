{
 "cells": [
  {
   "cell_type": "markdown",
   "metadata": {},
   "source": [
    "# WALLABY Notebook Session\n",
    "\n",
    "A Jupyter Notebook deployment of a Python environment with access to the WALLABY database. We use [Django models](https://docs.djangoproject.com/en/3.1/topics/db/models/) to generate SQL queries from your Python code. Here are some details about your workspace:\n",
    "\n",
    "* Python version = 3.8.6\n",
    "* 16 GB RAM\n",
    "\n",
    "This is an empty notebook provided for you to interact with the database using your own Python scripts. There are two other tutorials provided that you may explore if you have not used Django before."
   ]
  },
  {
   "cell_type": "code",
   "execution_count": null,
   "metadata": {},
   "outputs": [],
   "source": [
    "# ------- RUN THIS CELL FIRST -------\n",
    "\n",
    "# import Python standard libraries\n",
    "import os\n",
    "import sys\n",
    "import json\n",
    "import django\n",
    "from datetime import datetime\n",
    "\n",
    "# Django setup\n",
    "sys.path.append('src/')\n",
    "django.setup()\n",
    "\n",
    "# Import Django models\n",
    "from run.models import Run\n",
    "from instance.models import Instance\n",
    "from detection.models import Detection\n",
    "from products.models import Products\n",
    "\n",
    "from sources.models import Sources\n",
    "from comments.models import Comments\n",
    "from tag.models import Tag"
   ]
  },
  {
   "cell_type": "code",
   "execution_count": null,
   "metadata": {},
   "outputs": [],
   "source": [
    "# ------- YOUR OWN CODE ------- \n",
    "\n"
   ]
  },
  {
   "cell_type": "code",
   "execution_count": null,
   "metadata": {},
   "outputs": [],
   "source": []
  }
 ],
 "metadata": {
  "kernelspec": {
   "display_name": "Django Shell-Plus",
   "language": "python",
   "name": "django_extensions"
  },
  "language_info": {
   "codemirror_mode": {
    "name": "ipython",
    "version": 3
   },
   "file_extension": ".py",
   "mimetype": "text/x-python",
   "name": "python",
   "nbconvert_exporter": "python",
   "pygments_lexer": "ipython3",
   "version": "3.9.1"
  }
 },
 "nbformat": 4,
 "nbformat_minor": 4
}
