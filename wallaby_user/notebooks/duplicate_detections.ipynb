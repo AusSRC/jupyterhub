{
 "cells": [
  {
   "cell_type": "markdown",
   "metadata": {},
   "source": [
    "# WALLABY Search for duplicates\n",
    "\n",
    "## Problem description\n",
    "\n",
    "WALLABY sources must be assigned a unique name (WALLABY J hhmmss±ddmmss) that follows\n",
    "the official IAU source naming guideline. If a source is observed more than once, then all subsequent detections of that source must be assigned the same name that was created when the source was first detected.\n",
    "\n",
    "One way of ensuring name consistency would be to cross-match new sources against the existing\n",
    "source database to identify if a source was previously detected. This could be done by checking if\n",
    "any sources exist in the database within a certain radius around the measured source position. If\n",
    "an older source is found, its name will need to be assigned to the new source, thus replacing its\n",
    "existing source name. \n",
    "\n",
    "Problems can occur if a source is broken up into multiple components by the source finder, or\n",
    "multiple sources are merged into a single detection. General position cross-matching within 2–3\n",
    "times the beam size may therefore be desirable to flag such cases and manually resolve their\n",
    "names. Specific flags could be assigned to detections to mark them as close pairs of galaxies or\n",
    "components of a single galaxy."
   ]
  },
  {
   "cell_type": "code",
   "execution_count": null,
   "metadata": {},
   "outputs": [],
   "source": [
    "# ------- RUN THIS CELL FIRST -------\n",
    "\n",
    "# import Python standard libraries\n",
    "import os\n",
    "import sys\n",
    "import json\n",
    "import django\n",
    "from datetime import datetime\n",
    "\n",
    "# Django setup\n",
    "sys.path.append('src/')\n",
    "django.setup()\n",
    "\n",
    "# Import Django models\n",
    "from run.models import Run\n",
    "from instance.models import Instance\n",
    "from detection.models import Detection\n",
    "from products.models import Products\n",
    "\n",
    "from sources.models import Sources\n",
    "from comments.models import Comments\n",
    "from tag.models import Tag"
   ]
  },
  {
   "cell_type": "markdown",
   "metadata": {},
   "source": [
    "## Example workflow\n",
    "\n",
    "For the purposes of this example we will take the first detection and make that a \"new source\". We will then proceed to cross-match with sources within some multiple of the beam size and flag them."
   ]
  },
  {
   "cell_type": "code",
   "execution_count": 4,
   "metadata": {},
   "outputs": [],
   "source": [
    "# Create a \"new source\" from the existing detections\n",
    "\n",
    "detections = list(Detection.objects.all())\n",
    "new_source = detections.pop()"
   ]
  },
  {
   "cell_type": "code",
   "execution_count": 7,
   "metadata": {},
   "outputs": [
    {
     "name": "stdout",
     "output_type": "stream",
     "text": [
      "Total detections: 1774\n",
      "Mock detections list length: 1773\n"
     ]
    }
   ],
   "source": [
    "print(f\"Total detections: {Detection.objects.count()}\")\n",
    "print(f\"Mock detections list length: {len(detections)}\")"
   ]
  },
  {
   "cell_type": "code",
   "execution_count": 13,
   "metadata": {},
   "outputs": [],
   "source": [
    "# Get products for detection\n",
    "\n",
    "new_source_products = Products.objects.get(detection=new_source)"
   ]
  },
  {
   "cell_type": "code",
   "execution_count": 20,
   "metadata": {},
   "outputs": [
    {
     "data": {
      "text/plain": [
       "b\"SIMPLE  =                    T                                                  BITPIX  =                  -32                                                  NAXIS   =                    3                                                  NAXIS1  =                   52                                                  NAXIS2  =                   57                                                  NAXIS3  =                   76                                                  CTYPE1  = 'RA---SIN'                                                            CRPIX1  =   -5.60000000000E+01                                                  CDELT1  =   -1.66666666667E-03                                                  CRVAL1  =    2.52984450000E+02                                                  CTYPE2  = 'DEC--SIN'                                                            CRPIX2  =    1.11700000000E+03                                                  CDELT2  =    1.66666666667E-03                                                  CRVAL2  =   -5.90087888889E+01                                                  CTYPE3  = 'FREQ    '                                                            CRPIX3  =   -5.83500000000E+03                                                  CDELT3  =    1.85185185185E+04                                                  CRVAL3  =    1.29550000000E+09                                                  ORIGIN  = 'SoFiA 2.3.1'                                                         CUNIT1  = 'deg     '                                                            CUNIT2  = 'deg     '                                                            CUNIT3  = 'Hz      '                                                            PC01_01 =    1.00000000000E+00                                                  PC02_01 =    0.00000000000E+00                                                  PC03_01 =    0.00000000000E+00                                                  PC01_02 =    0.00000000000E+00                                                  PC02_02 =    1.00000000000E+00                                                  PC03_02 =    0.00000000000E+00                                                  PC01_03 =    0.00000000000E+00                                                  PC02_03 =    0.00000000000E+00                                                  PC03_03 =    1.00000000000E+00                                                  RESTFRQ =    1.42040575179E+09                                                  SPECSYS = 'BARYCENT'                                                            EQUINOX =    2.00000000000E+03                                                  RADESYS = 'FK5     '                                                            LONPOLE =    1.80000000000E+02                                                  \""
      ]
     },
     "execution_count": 20,
     "metadata": {},
     "output_type": "execute_result"
    }
   ],
   "source": [
    "# Get FITS header for beam size\n",
    "\n",
    "b''.join(new_source_products.cube)[0:2880]"
   ]
  },
  {
   "cell_type": "code",
   "execution_count": 35,
   "metadata": {},
   "outputs": [],
   "source": [
    "# get pixel search radius from beam size\n",
    "# NOTE: Temporary value for beam size used since I cannot find it in the FITS header\n",
    "# or in the data products of the detection\n",
    "\n",
    "N = 3\n",
    "beam_size = 10\n",
    "search_radius = N * beam_size"
   ]
  },
  {
   "cell_type": "code",
   "execution_count": 36,
   "metadata": {},
   "outputs": [],
   "source": [
    "import numpy as np\n",
    "from numpy.linalg import norm"
   ]
  },
  {
   "cell_type": "code",
   "execution_count": 37,
   "metadata": {},
   "outputs": [],
   "source": [
    "# Cross match with existing detections\n",
    "\n",
    "import numpy as np\n",
    "from numpy.linalg import norm\n",
    "\n",
    "close_detections = []\n",
    "source_coords = np.array([new_source.x, new_source.y])\n",
    "\n",
    "for d in detections:\n",
    "    detection_coords = np.array([d.x, d.y])\n",
    "    dist = norm(source_coords - detection_coords)\n",
    "    if (dist < search_radius):\n",
    "        close_detections.append(d)"
   ]
  },
  {
   "cell_type": "code",
   "execution_count": 38,
   "metadata": {},
   "outputs": [
    {
     "name": "stdout",
     "output_type": "stream",
     "text": [
      "[<Detection: WALLABY J165101-604813>, <Detection: WALLABY J165100-604813>, <Detection: WALLABY J165101-604809>, <Detection: WALLABY J165100-604814>]\n"
     ]
    }
   ],
   "source": [
    "print(close_detections)"
   ]
  },
  {
   "cell_type": "markdown",
   "metadata": {},
   "source": [
    "## Manual resolution...\n",
    "\n",
    "Now, to determine which of the detections should be the the source we can manually inspect each of the detections in `close_detections` and compare it with the `new_source`."
   ]
  },
  {
   "cell_type": "code",
   "execution_count": null,
   "metadata": {},
   "outputs": [],
   "source": []
  }
 ],
 "metadata": {
  "kernelspec": {
   "display_name": "Django Shell-Plus",
   "language": "python",
   "name": "django_extensions"
  },
  "language_info": {
   "codemirror_mode": {
    "name": "ipython",
    "version": 3
   },
   "file_extension": ".py",
   "mimetype": "text/x-python",
   "name": "python",
   "nbconvert_exporter": "python",
   "pygments_lexer": "ipython3",
   "version": "3.9.1"
  }
 },
 "nbformat": 4,
 "nbformat_minor": 4
}
