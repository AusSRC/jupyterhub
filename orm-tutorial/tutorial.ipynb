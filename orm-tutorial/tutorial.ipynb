{
 "cells": [
  {
   "cell_type": "markdown",
   "id": "declared-montana",
   "metadata": {},
   "source": [
    "# Django Object Relational Mapper (ORM)\n",
    "\n",
    "## Introduction\n",
    "\n",
    "This notebook provides a brief overview of the [Django](https://docs.djangoproject.com/en/3.1/) [ORM](https://en.wikipedia.org/wiki/Object%E2%80%93relational_mapping), which allows us to access the database using Python objects. We will assume you have some working knowledge of Python, databases ([PostgreSQL](https://www.postgresql.org/)) and [object-oriented programming](https://pythonguides.com/object-oriented-programming-python/). New concepts relating to the Django ORM will be introduced as we work through the notebook.\n",
    "\n",
    "The objective of the notebook is to get you familiar with Python commands that you can use for accessing the data. This includes: \n",
    "\n",
    "* How data is stored\n",
    "* How to access the data\n",
    "* How to query the data\n",
    "* How to perform analysis on data.\n",
    "\n",
    "## Initial Setup\n",
    "\n",
    "To get started, run the cell below which will configure our Python environment to have access to Django shell functionality. **You must run this cell before any other cells**."
   ]
  },
  {
   "cell_type": "code",
   "execution_count": 14,
   "id": "classified-display",
   "metadata": {},
   "outputs": [],
   "source": [
    "# Setup environment\n",
    "import sys\n",
    "import os\n",
    "import django\n",
    "sys.path.append('../')\n",
    "sys.path.append('../src/')\n",
    "django.setup()"
   ]
  },
  {
   "cell_type": "code",
   "execution_count": 16,
   "id": "invisible-adult",
   "metadata": {},
   "outputs": [],
   "source": [
    "# Configurations for this notebook.\n",
    "os.environ[\"DJANGO_DATABASE_ENGINE\"]=\"django.db.backends.mysql\"\n",
    "os.environ[\"DJANGO_DATABASE_NAME\"]=\"test\"\n",
    "os.environ[\"DJANGO_DATABASE_USER\"]=\"test\"\n",
    "os.environ[\"DJANGO_DATABASE_PASSWORD\"]=\"test\""
   ]
  },
  {
   "cell_type": "markdown",
   "id": "destroyed-explosion",
   "metadata": {},
   "source": [
    "## Data storage\n",
    "\n",
    "The data is stored in a PostgreSQL database. This database has a certain [schema](https://en.wikipedia.org/wiki/Database_schema) which is determined by administrators to structure the data that is being stored. For the WALLABY database, we have a pre-defined schema that contains the tables for storing detections, sources, runs, comments etc. "
   ]
  },
  {
   "cell_type": "markdown",
   "id": "heavy-interstate",
   "metadata": {},
   "source": [
    "## Models"
   ]
  },
  {
   "cell_type": "markdown",
   "id": "alpine-morning",
   "metadata": {},
   "source": [
    "The most important concept in the ORM is the [Django Model](https://docs.djangoproject.com/en/3.1/topics/db/models/). Models are a pythonic representation of a database table. They contain information about the name and data type for each field in a table. To use a \n",
    "\n",
    "```\n",
    "\n",
    "```\n",
    "\n",
    "This [page](https://docs.djangoproject.com/en/3.1/topics/db/models/) provides an in-depth reference for Django Models that you can read for more information."
   ]
  },
  {
   "cell_type": "markdown",
   "id": "instrumental-colonial",
   "metadata": {},
   "source": [
    "## Queries"
   ]
  },
  {
   "cell_type": "markdown",
   "id": "established-ribbon",
   "metadata": {},
   "source": [
    "## Query logic"
   ]
  },
  {
   "cell_type": "code",
   "execution_count": null,
   "id": "increasing-london",
   "metadata": {},
   "outputs": [],
   "source": []
  }
 ],
 "metadata": {
  "kernelspec": {
   "display_name": "Python 3",
   "language": "python",
   "name": "python3"
  },
  "language_info": {
   "codemirror_mode": {
    "name": "ipython",
    "version": 3
   },
   "file_extension": ".py",
   "mimetype": "text/x-python",
   "name": "python",
   "nbconvert_exporter": "python",
   "pygments_lexer": "ipython3",
   "version": "3.9.1"
  }
 },
 "nbformat": 4,
 "nbformat_minor": 5
}
