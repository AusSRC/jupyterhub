{
 "cells": [
  {
   "cell_type": "markdown",
   "id": "orange-peace",
   "metadata": {},
   "source": [
    "# Django Object Relational Mapper (ORM)\n",
    "\n",
    "## Introduction\n",
    "\n",
    "This notebook provides a brief overview of the [Django](https://docs.djangoproject.com/en/3.1/) [ORM](https://en.wikipedia.org/wiki/Object%E2%80%93relational_mapping), which allows us to access the database using Python objects. We will assume you have some working knowledge of Python, databases ([PostgreSQL](https://www.postgresql.org/)) and [object-oriented programming](https://pythonguides.com/object-oriented-programming-python/). New concepts relating to the Django ORM will be introduced as we work through the notebook.\n",
    "\n",
    "The objective of the notebook is to get you familiar with Python commands that you can use for accessing the data. By the end of the notebook hopefully you will understand: \n",
    "\n",
    "* How to query the data\n",
    "* How to write data to the database\n",
    "* How to write post-processing scripts using the data\n",
    "\n",
    "using Python with Django. There are cells in the notebook that are intentionally empty. These are left blank so you can fill them out to test your understanding of Django syntax and practice writing the code.\n",
    "\n",
    "## Initial Setup\n",
    "\n",
    "To get started, run the cell below which will configure our Python environment to have access to Django shell functionality. **You must run this cell before any other cells**."
   ]
  },
  {
   "cell_type": "code",
   "execution_count": 1,
   "id": "lyric-particle",
   "metadata": {},
   "outputs": [],
   "source": [
    "# Setup environment\n",
    "import sys\n",
    "import os\n",
    "import django\n",
    "sys.path.append('src')\n",
    "os.environ['DJANGO_SETTINGS_MODULE'] = 'demo.settings'\n",
    "os.environ[\"DJANGO_ALLOW_ASYNC_UNSAFE\"] = \"true\"\n",
    "django.setup()"
   ]
  },
  {
   "cell_type": "markdown",
   "id": "prompt-weight",
   "metadata": {},
   "source": [
    "## Context\n",
    "\n",
    "For the purposes of this tutorial let's suppose we are managers of book shop franchise. There are a number of stores and books that we stock. We've got a database system to reflect the physical system (because that's what everyone else is doing). "
   ]
  },
  {
   "cell_type": "markdown",
   "id": "lyric-tuning",
   "metadata": {},
   "source": [
    "## Models"
   ]
  },
  {
   "cell_type": "markdown",
   "id": "bridal-merchant",
   "metadata": {},
   "source": [
    "The most important concept in the ORM is the [Django Model](https://docs.djangoproject.com/en/3.1/topics/db/models/). Models are a pythonic representation of a database table. They contain information about the name and data type for each field in a table. For those interested, here is how the `models.py` files for our books, stores, inventory and sales look:\n",
    "\n",
    "```\n",
    "# src/stores/models.py\n",
    "class Store(models.Model):\n",
    "    id = models.AutoField(primary_key=True)\n",
    "    name = models.CharField(max_length=100)\n",
    "    address = models.TextField()\n",
    "\n",
    "# src/books/models.py\n",
    "class Book(models.Model):\n",
    "    id = models.AutoField(primary_key=True)\n",
    "    title = models.CharField(max_length=100)\n",
    "    author = models.CharField(max_length=200)\n",
    "    price = models.FloatField()\n",
    "    store = models.ForeignKey(Store, to_field='id', null=True, blank=True, on_delete=models.SET_NULL)\n",
    "    \n",
    "# src/sales/models.py\n",
    "class Sale(models.Model):\n",
    "    id = models.AutoField(primary_key=True)\n",
    "    book = models.ForeignKey(Book, to_field='id', on_delete=models.DO_NOTHING)\n",
    "    store = models.ForeignKey(Store, to_field='id', on_delete=models.DO_NOTHING)\n",
    "    sold_at = models.DateTimeField(auto_now=True)\n",
    "    \n",
    "# src/inventory/models.py\n",
    "class Inventory(models.Model):\n",
    "    id = models.AutoField(primary_key=True)\n",
    "    book = models.ForeignKey(Book, to_field='id', on_delete=models.DO_NOTHING)\n",
    "    store = models.ForeignKey(Store, to_field='id', on_delete=models.DO_NOTHING)\n",
    "    quantity = models.IntegerField()\n",
    "```\n",
    "\n",
    "This reflects the types of data contained in each table in the database. From the model definitions, you can immediately underestand the database schema. These files can also be generated automatically from a database!\n",
    "\n",
    "This [page](https://docs.djangoproject.com/en/3.1/topics/db/models/) provides an in-depth reference for Django Models that you can read for more information."
   ]
  },
  {
   "cell_type": "markdown",
   "id": "czech-darkness",
   "metadata": {},
   "source": [
    "# Simple Queries\n",
    "\n",
    "### Check our inventory!\n",
    "\n",
    "First step will be to check what books we currently have stocked across all of our book stores. Actually, we don't even know what book stores we have, so let's check that too. In order to access the data, you will need to import the relevant Django model. Run the cell below to import the models and run a simple query. "
   ]
  },
  {
   "cell_type": "code",
   "execution_count": 2,
   "id": "protecting-landing",
   "metadata": {},
   "outputs": [],
   "source": [
    "from books.models import Book\n",
    "from stores.models import Store"
   ]
  },
  {
   "cell_type": "code",
   "execution_count": 3,
   "id": "cubic-vacation",
   "metadata": {},
   "outputs": [
    {
     "name": "stdout",
     "output_type": "stream",
     "text": [
      "<QuerySet [<Book: Book object (1)>, <Book: Book object (2)>, <Book: Book object (3)>, <Book: Book object (4)>, <Book: Book object (5)>, <Book: Book object (6)>]>\n",
      "<QuerySet [<Store: Store object (1)>]>\n"
     ]
    }
   ],
   "source": [
    "all_books = Book.objects.all()\n",
    "all_stores = Store.objects.all()\n",
    "\n",
    "print(all_books)\n",
    "print(all_stores)"
   ]
  },
  {
   "cell_type": "markdown",
   "id": "broken-recipient",
   "metadata": {},
   "source": [
    "We can see that the model objects have a `.objects.all()` operation that you can apply to them. This returns the objects in a `QuerySet` which is effectively just a list. In this case, since we queried for `all()`, the result is all rows of the table. If we perform some filtering on the query we will get a subset of the rows in our `QuerySet`.\n",
    "\n",
    "Lets look at one of the books. We can retrieve items (rows) from our `QuerySet` by indexing, like we do for lists. "
   ]
  },
  {
   "cell_type": "code",
   "execution_count": 4,
   "id": "mobile-disabled",
   "metadata": {},
   "outputs": [
    {
     "name": "stdout",
     "output_type": "stream",
     "text": [
      "Book object (1)\n",
      "<class 'books.models.Book'>\n"
     ]
    }
   ],
   "source": [
    "print(all_books[0])\n",
    "print(type(all_books[0]))"
   ]
  },
  {
   "cell_type": "markdown",
   "id": "indie-processing",
   "metadata": {},
   "source": [
    "The book, which is a row in the database, is represented as the Django model object defined above. When it is printed, it just shows `books.models.Book` which is not very informative. Let's look at the properties of this object."
   ]
  },
  {
   "cell_type": "code",
   "execution_count": 5,
   "id": "intelligent-penetration",
   "metadata": {},
   "outputs": [
    {
     "data": {
      "text/plain": [
       "{'_state': <django.db.models.base.ModelState at 0x1103d7550>,\n",
       " 'id': 1,\n",
       " 'title': 'Sapiens',\n",
       " 'author': 'Yuval Harari',\n",
       " 'price': 29.99,\n",
       " 'store_id': 1}"
      ]
     },
     "execution_count": 5,
     "metadata": {},
     "output_type": "execute_result"
    }
   ],
   "source": [
    "all_books.first().__dict__"
   ]
  },
  {
   "cell_type": "markdown",
   "id": "legal-default",
   "metadata": {},
   "source": [
    "We can retrieve the information about the book by inspecting this `__dict__` attribute. This is handy for looking at all properties of an object (looking at the values of all fields in the row).\n",
    "\n",
    "If we wanted to write some script that makes use of a specific property, there is an easier way to access them. Let's print the names of all the books we have in our store."
   ]
  },
  {
   "cell_type": "code",
   "execution_count": 6,
   "id": "completed-momentum",
   "metadata": {},
   "outputs": [
    {
     "name": "stdout",
     "output_type": "stream",
     "text": [
      "Sapiens\n",
      "The New Jim Crow: Mass Incarceration in the Age of Colorblindness\n",
      "Range: Why Generalists Triumph in a Specialized World\n",
      "The Splendid and the Vile: A Saga of Churchill, Family, and Defiance During the Blitz\n",
      "The Spy and the Traitor: The Greatest Espionage Story of the Cold War\n",
      "Breath from Salt: A Deadly Genetic Disease, a New Era in Science, and the Patients and Families Who Changed Medicine\n"
     ]
    }
   ],
   "source": [
    "for book in Book.objects.all():\n",
    "    print(book.title)"
   ]
  },
  {
   "cell_type": "markdown",
   "id": "smooth-subdivision",
   "metadata": {},
   "source": [
    "We also have a Store table in the database with one entry. What is the name of the store?"
   ]
  },
  {
   "cell_type": "code",
   "execution_count": 15,
   "id": "agreed-class",
   "metadata": {},
   "outputs": [],
   "source": [
    "# TODO(user): Retrieve the name of the Store object in the database.\n",
    "\n",
    "\n"
   ]
  },
  {
   "cell_type": "markdown",
   "id": "moved-daughter",
   "metadata": {},
   "source": [
    "Cool! So we know how to get all rows from the database for a table of interest. We know how to access objects in that list, and look at properties of those objects. "
   ]
  },
  {
   "cell_type": "markdown",
   "id": "novel-soviet",
   "metadata": {},
   "source": [
    "# Write data"
   ]
  },
  {
   "cell_type": "markdown",
   "id": "manual-sunglasses",
   "metadata": {},
   "source": [
    "### Opening a new shop\n",
    "\n",
    "Let's suppose we've just opened up a new shop. We need to update the database to reflect this change."
   ]
  },
  {
   "cell_type": "code",
   "execution_count": 7,
   "id": "remarkable-calculation",
   "metadata": {},
   "outputs": [
    {
     "data": {
      "text/plain": [
       "<Store: Store object (2)>"
      ]
     },
     "execution_count": 7,
     "metadata": {},
     "output_type": "execute_result"
    }
   ],
   "source": [
    "Store.objects.create(\n",
    "    name=\"Awesome Books\",\n",
    "    address=\"36 Stirling Hwy, Perth, AU 6009\"\n",
    ")"
   ]
  },
  {
   "cell_type": "markdown",
   "id": "known-seeker",
   "metadata": {},
   "source": [
    "Now if we look at all of the stores, you will see that we have two. Do this in the cell below."
   ]
  },
  {
   "cell_type": "code",
   "execution_count": 8,
   "id": "social-orientation",
   "metadata": {},
   "outputs": [],
   "source": [
    "# TODO(user): Check that there are now two stores. Check the names of each of the stores\n",
    "# to make sure one of them is the one you just created\n",
    "\n",
    "\n"
   ]
  },
  {
   "cell_type": "markdown",
   "id": "integral-observer",
   "metadata": {},
   "source": [
    "**NOTE**: If you run a cell twice you will accidentally create two objects! This will result in two writes to the database with the same content. If you accidentally do this, no worries. There are no protections in this database that require no duplication of fields, but there probably will be in a production database.\n",
    "\n",
    "To access the object where you have created duplicated you can use the `id` field of the object. This is the row id, and is unique for each object. In Django, this is:\n",
    "\n",
    "``` \n",
    "crawley_store = Store.objects.get(id=2)\n",
    "```"
   ]
  },
  {
   "cell_type": "markdown",
   "id": "quiet-lebanon",
   "metadata": {},
   "source": [
    "### Add stock to the existing shop!\n",
    "\n",
    "So we have now two shops and some number of books. Since our database is [normalised](https://en.wikipedia.org/wiki/Database_normalization), the table that tracks the number of books we have in stock is separate to the Books table. We haven't had the chance yet to look at our inventory, so let's do that quickly."
   ]
  },
  {
   "cell_type": "code",
   "execution_count": 17,
   "id": "continuing-brief",
   "metadata": {},
   "outputs": [
    {
     "name": "stdout",
     "output_type": "stream",
     "text": [
      "(4, Sapiens, Perth Book Shop)\n",
      "\n",
      "(13, The New Jim Crow: Mass Incarceration in the Age of Colorblindness, Perth Book Shop)\n",
      "\n",
      "(7, Range: Why Generalists Triumph in a Specialized World, Perth Book Shop)\n",
      "\n",
      "(9, The Splendid and the Vile: A Saga of Churchill, Family, and Defiance During the Blitz, Perth Book Shop)\n",
      "\n",
      "(15, The Spy and the Traitor: The Greatest Espionage Story of the Cold War, Perth Book Shop)\n",
      "\n",
      "(341, Breath from Salt: A Deadly Genetic Disease, a New Era in Science, and the Patients and Families Who Changed Medicine, Perth Book Shop)\n",
      "\n"
     ]
    }
   ],
   "source": [
    "from inventory.models import Inventory\n",
    "\n",
    "for item in Inventory.objects.all():\n",
    "    print(f\"({item.quantity}, {Book.objects.get(id=item.book_id).title}, {Store.objects.get(id=item.store_id).name})\\n\")"
   ]
  },
  {
   "cell_type": "markdown",
   "id": "identified-instrument",
   "metadata": {},
   "source": [
    "Great so now we know how much of each book we currently have in each store. Let's add some stock to the new bookshop."
   ]
  },
  {
   "cell_type": "code",
   "execution_count": 18,
   "id": "above-flashing",
   "metadata": {},
   "outputs": [
    {
     "data": {
      "text/plain": [
       "<Inventory: Inventory object (9)>"
      ]
     },
     "execution_count": 18,
     "metadata": {},
     "output_type": "execute_result"
    }
   ],
   "source": [
    "# Adding some Books to the new Store by updating the Inventory table.\n",
    "\n",
    "Inventory.objects.create(\n",
    "    quantity=10,\n",
    "    book_id=1,\n",
    "    store_id=2\n",
    ")\n",
    "\n",
    "Inventory.objects.create(\n",
    "    quantity=15,\n",
    "    book_id=4,\n",
    "    store_id=2\n",
    ")\n",
    "\n",
    "Inventory.objects.create(\n",
    "    quantity=15,\n",
    "    book_id=6,\n",
    "    store_id=2\n",
    ")"
   ]
  },
  {
   "cell_type": "markdown",
   "id": "baking-sherman",
   "metadata": {},
   "source": [
    "### New books!\n",
    "\n",
    "We've got a new book that we want to add to our shop in Crawley. There are a lot of students in Crawley so we decided to add a book that targets them. Now that you've seen how to create items in the Inventory, you will fill out the content for this cell. The information for the book is here:\n",
    "\n",
    "```\n",
    "title = \"This Side of Paradise\"\n",
    "author = \"Francis Scott Fitzgerald\"\n",
    "price = 22.99\n",
    "```"
   ]
  },
  {
   "cell_type": "code",
   "execution_count": null,
   "id": "rolled-azerbaijan",
   "metadata": {},
   "outputs": [],
   "source": [
    "# TODO(user): Create Book and add the Inventory row\n",
    "\n",
    "\n",
    "\n"
   ]
  },
  {
   "cell_type": "markdown",
   "id": "figured-apollo",
   "metadata": {},
   "source": [
    "Now if you have added the Book and Inventory correctly you should see 4 different items in the new Crawley book store."
   ]
  },
  {
   "cell_type": "code",
   "execution_count": 29,
   "id": "wooden-carpet",
   "metadata": {},
   "outputs": [
    {
     "name": "stdout",
     "output_type": "stream",
     "text": [
      "Correct number of books in the Crawley store? False\n",
      "Correct number of books in the all stores? False\n"
     ]
    }
   ],
   "source": [
    "# TODO(user): Run this to check that you have added the book and inventory rows to the database\n",
    "# NOTE: If you ran the cell above multiple times this should still show True.\n",
    "\n",
    "print(f\"Correct number of books in the Crawley store? {Inventory.objects.filter(store_id=2).count() >= 4}\")\n",
    "print(f\"Correct number of books in the all stores? {Inventory.objects.count() >= 10}\")"
   ]
  },
  {
   "cell_type": "markdown",
   "id": "charged-medium",
   "metadata": {},
   "source": [
    "# Complex Queries\n",
    "\n",
    "### Generating sales\n",
    "\n",
    "Lets generate some random sales to showcase the ability to perform some complex queries. We're going to generate a lot of sales to populate the database over the last 10 years."
   ]
  },
  {
   "cell_type": "code",
   "execution_count": 33,
   "id": "addressed-benjamin",
   "metadata": {},
   "outputs": [],
   "source": [
    "# Create some sales records in the database\n",
    "\n",
    "import random\n",
    "from datetime import datetime, timedelta\n",
    "from sales.models import Sale\n",
    "\n",
    "# variables for generating random datetime values\n",
    "min_year = 2010\n",
    "max_year = datetime.now().year\n",
    "start = datetime(min_year, 1, 1, 0, 0, 0)\n",
    "years = max_year - min_year + 1\n",
    "end = start + timedelta(days=365 * years)\n",
    "\n",
    "# Generate sales\n",
    "N = 2000\n",
    "for i in range(N):\n",
    "    random_date = start + (end - start) * random.random()\n",
    "    sale = Sale.objects.create(\n",
    "        book_id = random.randint(1, Book.objects.count()),\n",
    "        store_id = random.randint(1, Store.objects.count())\n",
    "    )\n",
    "    sale.sold_at = random_date"
   ]
  },
  {
   "cell_type": "code",
   "execution_count": 34,
   "id": "threatened-biotechnology",
   "metadata": {},
   "outputs": [
    {
     "data": {
      "text/plain": [
       "2001"
      ]
     },
     "execution_count": 34,
     "metadata": {},
     "output_type": "execute_result"
    }
   ],
   "source": [
    "# Confirm that we have a lot of sales\n",
    "\n",
    "Sale.objects.count()"
   ]
  },
  {
   "cell_type": "markdown",
   "id": "premier-float",
   "metadata": {},
   "source": [
    "# Analysis"
   ]
  },
  {
   "cell_type": "code",
   "execution_count": null,
   "id": "billion-cooking",
   "metadata": {},
   "outputs": [],
   "source": []
  }
 ],
 "metadata": {
  "kernelspec": {
   "display_name": "Python 3",
   "language": "python",
   "name": "python3"
  },
  "language_info": {
   "codemirror_mode": {
    "name": "ipython",
    "version": 3
   },
   "file_extension": ".py",
   "mimetype": "text/x-python",
   "name": "python",
   "nbconvert_exporter": "python",
   "pygments_lexer": "ipython3",
   "version": "3.9.1"
  }
 },
 "nbformat": 4,
 "nbformat_minor": 5
}
