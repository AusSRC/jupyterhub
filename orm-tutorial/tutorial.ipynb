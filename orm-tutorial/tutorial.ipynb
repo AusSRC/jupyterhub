{
 "cells": [
  {
   "cell_type": "markdown",
   "id": "special-cambridge",
   "metadata": {},
   "source": [
    "# Django Object Relational Mapper (ORM)\n",
    "\n",
    "## Introduction\n",
    "\n",
    "This notebook provides a brief overview of the [Django](https://docs.djangoproject.com/en/3.1/) [ORM](https://en.wikipedia.org/wiki/Object%E2%80%93relational_mapping), which allows us to access the database using Python objects. We will assume you have some working knowledge of Python, databases ([PostgreSQL](https://www.postgresql.org/)) and [object-oriented programming](https://pythonguides.com/object-oriented-programming-python/). New concepts relating to the Django ORM will be introduced as we work through the notebook.\n",
    "\n",
    "The objective of the notebook is to get you familiar with Python commands that you can use for accessing the data. By the end of the notebook hopefully you will understand: \n",
    "\n",
    "* How to construct queries to the data\n",
    "* How to write data to the database\n",
    "* How to write post-processing scripts using the data\n",
    "\n",
    "using Python with Django. There are cells in the notebook that are intentionally empty. These are left blank so you can fill them out to test your understanding of Django syntax and practice writing the code.\n",
    "\n",
    "## Initial Setup\n",
    "\n",
    "To get started, run the cell below which will configure our Python environment to have access to Django shell functionality. **You must run this cell before any other cells**."
   ]
  },
  {
   "cell_type": "code",
   "execution_count": null,
   "id": "diagnostic-person",
   "metadata": {},
   "outputs": [],
   "source": [
    "# Setup environment\n",
    "import sys\n",
    "import os\n",
    "import django\n",
    "sys.path.append('src')\n",
    "os.environ['DJANGO_SETTINGS_MODULE'] = 'demo.settings'\n",
    "os.environ[\"DJANGO_ALLOW_ASYNC_UNSAFE\"] = \"true\"\n",
    "django.setup()"
   ]
  },
  {
   "cell_type": "code",
   "execution_count": null,
   "id": "desirable-solomon",
   "metadata": {},
   "outputs": [],
   "source": [
    "# Ignore warnings\n",
    "import warnings\n",
    "warnings.filterwarnings('ignore')"
   ]
  },
  {
   "cell_type": "markdown",
   "id": "chemical-thesis",
   "metadata": {},
   "source": [
    "## Context\n",
    "\n",
    "For the purposes of this tutorial let's suppose we are managers of book shop franchise. There are a number of stores and books that we stock. We've got a database system to reflect the physical system (because that's what everyone else is doing). "
   ]
  },
  {
   "cell_type": "markdown",
   "id": "moving-breast",
   "metadata": {},
   "source": [
    "## Models"
   ]
  },
  {
   "cell_type": "markdown",
   "id": "driven-jewelry",
   "metadata": {},
   "source": [
    "The most important concept in the ORM is the [Django Model](https://docs.djangoproject.com/en/3.1/topics/db/models/). Models are a pythonic representation of a database table. They contain information about the name and data type for each field in a table. For those interested, here is how the `models.py` files for our books, stores, inventory and sales look:\n",
    "\n",
    "```\n",
    "# src/stores/models.py\n",
    "class Store(models.Model):\n",
    "    id = models.AutoField(primary_key=True)\n",
    "    name = models.CharField(max_length=100)\n",
    "    address = models.TextField()\n",
    "\n",
    "# src/books/models.py\n",
    "class Book(models.Model):\n",
    "    id = models.AutoField(primary_key=True)\n",
    "    title = models.CharField(max_length=100)\n",
    "    author = models.CharField(max_length=200)\n",
    "    price = models.FloatField()\n",
    "    store = models.ForeignKey(Store, to_field='id', null=True, blank=True, on_delete=models.SET_NULL)\n",
    "    \n",
    "# src/sales/models.py\n",
    "class Sale(models.Model):\n",
    "    id = models.AutoField(primary_key=True)\n",
    "    book = models.ForeignKey(Book, to_field='id', on_delete=models.DO_NOTHING)\n",
    "    store = models.ForeignKey(Store, to_field='id', on_delete=models.DO_NOTHING)\n",
    "    sold_at = models.DateTimeField(auto_now=True)\n",
    "    \n",
    "# src/inventory/models.py\n",
    "class Inventory(models.Model):\n",
    "    id = models.AutoField(primary_key=True)\n",
    "    book = models.ForeignKey(Book, to_field='id', on_delete=models.DO_NOTHING)\n",
    "    store = models.ForeignKey(Store, to_field='id', on_delete=models.DO_NOTHING)\n",
    "    quantity = models.IntegerField()\n",
    "```\n",
    "\n",
    "This reflects the types of data contained in each table in the database. From the model definitions, you can immediately underestand the database schema. These files can also be generated automatically from a database!\n",
    "\n",
    "This [page](https://docs.djangoproject.com/en/3.1/topics/db/models/) provides an in-depth reference for Django Models that you can read for more information."
   ]
  },
  {
   "cell_type": "markdown",
   "id": "sticky-bernard",
   "metadata": {},
   "source": [
    "# Simple Queries\n",
    "\n",
    "### Check our inventory!\n",
    "\n",
    "First step will be to check what books we currently have stocked across all of our book stores. Actually, we don't even know what book stores we have, so let's check that too. In order to access the data, you will need to import the relevant Django model. Run the cell below to import the models and run a simple query. "
   ]
  },
  {
   "cell_type": "code",
   "execution_count": null,
   "id": "alternate-combining",
   "metadata": {},
   "outputs": [],
   "source": [
    "from books.models import Book\n",
    "from stores.models import Store"
   ]
  },
  {
   "cell_type": "code",
   "execution_count": null,
   "id": "political-behavior",
   "metadata": {},
   "outputs": [],
   "source": [
    "all_books = Book.objects.all()\n",
    "all_stores = Store.objects.all()\n",
    "\n",
    "print(all_books)\n",
    "print(all_stores)"
   ]
  },
  {
   "cell_type": "markdown",
   "id": "lucky-tradition",
   "metadata": {},
   "source": [
    "We can see that the model objects have a `.objects.all()` operation that you can apply to them. This returns the objects in a `QuerySet` which is effectively just a list. In this case, since we queried for `all()`, the result is all rows of the table. If we perform some filtering on the query we will get a subset of the rows in our `QuerySet`.\n",
    "\n",
    "Lets look at one of the books. We can retrieve items (rows) from our `QuerySet` by indexing, like we do for lists. "
   ]
  },
  {
   "cell_type": "code",
   "execution_count": null,
   "id": "parental-algebra",
   "metadata": {},
   "outputs": [],
   "source": [
    "print(all_books[0])\n",
    "print(type(all_books[0]))"
   ]
  },
  {
   "cell_type": "markdown",
   "id": "center-taxation",
   "metadata": {},
   "source": [
    "The book, which is a row in the database, is represented as the Django model object defined above. When it is printed, it just shows `books.models.Book` which is not very informative. Let's look at the properties of this object."
   ]
  },
  {
   "cell_type": "code",
   "execution_count": null,
   "id": "secret-penalty",
   "metadata": {},
   "outputs": [],
   "source": [
    "all_books.first().__dict__"
   ]
  },
  {
   "cell_type": "markdown",
   "id": "velvet-parts",
   "metadata": {},
   "source": [
    "We can retrieve the information about the book by inspecting this `__dict__` attribute. This is handy for looking at all properties of an object (looking at the values of all fields in the row).\n",
    "\n",
    "If we wanted to write some script that makes use of a specific property, there is an easier way to access them. Let's print the names of all the books we have in our store."
   ]
  },
  {
   "cell_type": "code",
   "execution_count": null,
   "id": "parental-range",
   "metadata": {},
   "outputs": [],
   "source": [
    "for book in Book.objects.all():\n",
    "    print(book.title)"
   ]
  },
  {
   "cell_type": "markdown",
   "id": "necessary-shakespeare",
   "metadata": {},
   "source": [
    "We also have a Store table in the database with one entry. What is the name of the store?"
   ]
  },
  {
   "cell_type": "code",
   "execution_count": null,
   "id": "mature-clock",
   "metadata": {},
   "outputs": [],
   "source": [
    "# TODO(user): Retrieve the name of the Store object in the database.\n",
    "\n",
    "\n"
   ]
  },
  {
   "cell_type": "markdown",
   "id": "crude-interface",
   "metadata": {},
   "source": [
    "Cool! So we know how to get all rows from the database for a table of interest. We know how to access objects in that list, and look at properties of those objects. "
   ]
  },
  {
   "cell_type": "markdown",
   "id": "established-andrew",
   "metadata": {},
   "source": [
    "# Write data"
   ]
  },
  {
   "cell_type": "markdown",
   "id": "unlikely-brazil",
   "metadata": {},
   "source": [
    "### Opening a new shop\n",
    "\n",
    "Let's suppose we've just opened up a new shop. We need to update the database to reflect this change."
   ]
  },
  {
   "cell_type": "code",
   "execution_count": null,
   "id": "partial-uruguay",
   "metadata": {},
   "outputs": [],
   "source": [
    "Store.objects.create(\n",
    "    name=\"Awesome Books\",\n",
    "    address=\"36 Stirling Hwy, Perth, AU 6009\"\n",
    ")"
   ]
  },
  {
   "cell_type": "markdown",
   "id": "pretty-sword",
   "metadata": {},
   "source": [
    "Now if we look at all of the stores, you will see that we have two. Do this in the cell below."
   ]
  },
  {
   "cell_type": "code",
   "execution_count": null,
   "id": "fresh-indianapolis",
   "metadata": {},
   "outputs": [],
   "source": [
    "# TODO(user): Check that there are now two stores. Check the names of each of the stores\n",
    "# to make sure one of them is the one you just created\n",
    "\n",
    "\n"
   ]
  },
  {
   "cell_type": "markdown",
   "id": "falling-bankruptcy",
   "metadata": {},
   "source": [
    "**NOTE**: If you run a cell twice you will accidentally create two objects! This will result in two writes to the database with the same content. If you accidentally do this, no worries. There are no protections in this database that require no duplication of fields, but there probably will be in a production database.\n",
    "\n",
    "To access the object where you have created duplicated you can use the `id` field of the object. This is the row id, and is unique for each object. In Django, this is:\n",
    "\n",
    "``` \n",
    "crawley_store = Store.objects.get(id=2)\n",
    "```"
   ]
  },
  {
   "cell_type": "markdown",
   "id": "funky-horse",
   "metadata": {},
   "source": [
    "Don't you think the name of our first book shop is super boring? Let's change it to something more memorable. We can do that by updating that row in the database. Let's do that through Django."
   ]
  },
  {
   "cell_type": "code",
   "execution_count": null,
   "id": "hungry-savannah",
   "metadata": {},
   "outputs": [],
   "source": [
    "perth_store = Store.objects.get(id=1)\n",
    "perth_store.name = \"Exciting Book Shop\"\n",
    "perth_store.save()"
   ]
  },
  {
   "cell_type": "markdown",
   "id": "pacific-bones",
   "metadata": {},
   "source": [
    "Updating the data is as simple as changing the value of the object property. \n",
    "\n",
    "**NOTE**: Once you have updated the object you will need to save it with the `.save()` method. Otherwise, the changes will not be recorded in the database."
   ]
  },
  {
   "cell_type": "markdown",
   "id": "empty-coffee",
   "metadata": {},
   "source": [
    "### Add stock to the existing shop!\n",
    "\n",
    "So we have now two shops and some number of books. Since our database is [normalised](https://en.wikipedia.org/wiki/Database_normalization), the table that tracks the number of books we have in stock is separate to the Books table. We haven't had the chance yet to look at our inventory, so let's do that quickly."
   ]
  },
  {
   "cell_type": "code",
   "execution_count": null,
   "id": "touched-break",
   "metadata": {},
   "outputs": [],
   "source": [
    "from inventory.models import Inventory\n",
    "\n",
    "for item in Inventory.objects.all():\n",
    "    print(f\"({item.quantity}, {Book.objects.get(id=item.book_id).title}, {Store.objects.get(id=item.store_id).name})\\n\")"
   ]
  },
  {
   "cell_type": "markdown",
   "id": "israeli-transition",
   "metadata": {},
   "source": [
    "Great so now we know how much of each book we currently have in each store. Let's add some stock to the new bookshop."
   ]
  },
  {
   "cell_type": "code",
   "execution_count": null,
   "id": "tropical-flash",
   "metadata": {},
   "outputs": [],
   "source": [
    "# Adding some Books to the new Store by updating the Inventory table.\n",
    "\n",
    "Inventory.objects.create(\n",
    "    quantity=10,\n",
    "    book_id=1,\n",
    "    store_id=2\n",
    ")\n",
    "\n",
    "Inventory.objects.create(\n",
    "    quantity=15,\n",
    "    book_id=4,\n",
    "    store_id=2\n",
    ")\n",
    "\n",
    "Inventory.objects.create(\n",
    "    quantity=15,\n",
    "    book_id=6,\n",
    "    store_id=2\n",
    ")"
   ]
  },
  {
   "cell_type": "markdown",
   "id": "numerical-statistics",
   "metadata": {},
   "source": [
    "### New books!\n",
    "\n",
    "We've got a new book that we want to add to our shop in Crawley. There are a lot of students in Crawley so we decided to add a book that targets them. Now that you've seen how to create items in the Inventory, you will fill out the content for this cell. The information for the book is here:\n",
    "\n",
    "```\n",
    "title = \"This Side of Paradise\"\n",
    "author = \"Francis Scott Fitzgerald\"\n",
    "price = 22.99\n",
    "```"
   ]
  },
  {
   "cell_type": "code",
   "execution_count": null,
   "id": "finished-elevation",
   "metadata": {},
   "outputs": [],
   "source": [
    "# TODO(user): Create Book and add the Inventory row\n",
    "\n",
    "\n",
    "\n"
   ]
  },
  {
   "cell_type": "markdown",
   "id": "bridal-attention",
   "metadata": {},
   "source": [
    "Now if you have added the Book and Inventory correctly you should see 4 different items in the new Crawley book store."
   ]
  },
  {
   "cell_type": "code",
   "execution_count": null,
   "id": "breeding-israeli",
   "metadata": {},
   "outputs": [],
   "source": [
    "# TODO(user): Run this to check that you have added the book and inventory rows to the database\n",
    "# NOTE: If you ran the cell above multiple times this should still show True.\n",
    "\n",
    "print(f\"Correct number of books in the Crawley store? {Inventory.objects.filter(store_id=2).count() >= 4}\")\n",
    "print(f\"Correct number of books in the all stores? {Inventory.objects.count() >= 10}\")"
   ]
  },
  {
   "cell_type": "markdown",
   "id": "little-complexity",
   "metadata": {},
   "source": [
    "# Complex Queries\n",
    "\n",
    "### Generating sales\n",
    "\n",
    "Lets generate some random sales to showcase the ability to perform some complex queries. We're going to generate a lot of sales to populate the database over the last 10 years."
   ]
  },
  {
   "cell_type": "code",
   "execution_count": null,
   "id": "statutory-israeli",
   "metadata": {},
   "outputs": [],
   "source": [
    "import random\n",
    "import pytz\n",
    "from datetime import datetime, timedelta\n",
    "from sales.models import Sale"
   ]
  },
  {
   "cell_type": "code",
   "execution_count": null,
   "id": "hawaiian-browser",
   "metadata": {},
   "outputs": [],
   "source": [
    "# Create some sales records in the database\n",
    "\n",
    "# variables for generating random datetime values\n",
    "min_year = 2010\n",
    "max_year = datetime.now(tz=pytz.UTC).year\n",
    "start = datetime(min_year, 1, 1, 0, 0, 0)\n",
    "years = max_year - min_year + 1\n",
    "end = start + timedelta(days=365 * years)\n",
    "\n",
    "# Generate sales\n",
    "N = 2000\n",
    "for i in range(N):\n",
    "    random_date = start + (end - start) * random.random()\n",
    "    sale = Sale.objects.create(\n",
    "        book_id = random.randint(1, Book.objects.count()),\n",
    "        store_id = random.randint(1, Store.objects.count())\n",
    "    )\n",
    "    sale.sold_at = random_date\n",
    "    sale.save()"
   ]
  },
  {
   "cell_type": "code",
   "execution_count": null,
   "id": "demanding-disability",
   "metadata": {},
   "outputs": [],
   "source": [
    "# Confirm that we have a lot of sales\n",
    "\n",
    "Sale.objects.count()"
   ]
  },
  {
   "cell_type": "markdown",
   "id": "german-baghdad",
   "metadata": {},
   "source": [
    "Now let's try and figure out how much money we made from the book 'Sapiens' in the last year. We're not sure if we should keep that one in stock since we hear that people are not reading that sort of stuff anymore. Once we've done that, we'll compare that with the amount made by other books. The cell below calculates the total amount made from the book Sapiens."
   ]
  },
  {
   "cell_type": "code",
   "execution_count": null,
   "id": "golden-hanging",
   "metadata": {},
   "outputs": [],
   "source": [
    "# Calculate total sales from book \"Sapiens\" with id=1\n",
    "\n",
    "sapiens_sale_count = Sale.objects.filter(book_id=1).filter(sold_at__gte=datetime.today() - timedelta(days=365*1)).count()\n",
    "print(f\"Total sales for book Sapiens: ${round(sapiens_sale_count * Book.objects.get(id=1).price, 2)}\")"
   ]
  },
  {
   "cell_type": "markdown",
   "id": "provincial-netscape",
   "metadata": {},
   "source": [
    "We can see that the basic idea for creating complex filters is to use `.filter()` and write your logic (which can be chained to specify multiple conditions). There is comprehensive documentation on `filter` which you can find [here](https://docs.djangoproject.com/en/3.1/topics/db/queries/#retrieving-specific-objects-with-filters). The section of the documentation specifying the filtering commands (`gte`, `lte` etc) is found [here](https://docs.djangoproject.com/en/3.1/topics/db/queries/#field-lookups).\n",
    "\n",
    "We could even see how much revenue each book store generated for their sales of the book."
   ]
  },
  {
   "cell_type": "code",
   "execution_count": null,
   "id": "retained-leisure",
   "metadata": {},
   "outputs": [],
   "source": [
    "# How much each book store earned in the sale of Sapiens in the last year\n",
    "\n",
    "sapiens_book_id = 1 \n",
    "for store in Store.objects.all():\n",
    "    copies_sold = Sale.objects.filter(store_id=store.id)\\\n",
    "                    .filter(book_id=sapiens_book_id)\\\n",
    "                    .filter(sold_at__gte=datetime.today() - timedelta(days=365*1))\\\n",
    "                    .count()\n",
    "    revenue = copies_sold * Book.objects.get(id=sapiens_book_id).price\n",
    "    print(f\"Store '{store.name}' made ${round(revenue, 2)} from {Book.objects.get(id=sapiens_book_id).title} sales.\")"
   ]
  },
  {
   "cell_type": "markdown",
   "id": "confirmed-background",
   "metadata": {},
   "source": [
    "# Analysis\n",
    "\n",
    "Suppose we want to understand our sales better and communicate that to a bunch of potential investors (so that we can expand and essentially overtake Amazon). We can use the data in our database to produce the figures. We'll use the [matplotlib](https://matplotlib.org/stable/index.html) plotting library to make the figures.\n",
    "\n",
    "Let's start by producing a bar chart of the revenue of each book across the stores. We'll use the authors names for the axes labels since the book names are too long."
   ]
  },
  {
   "cell_type": "code",
   "execution_count": null,
   "id": "cutting-groove",
   "metadata": {},
   "outputs": [],
   "source": [
    "import matplotlib.pyplot as plt"
   ]
  },
  {
   "cell_type": "code",
   "execution_count": null,
   "id": "appreciated-tiffany",
   "metadata": {},
   "outputs": [],
   "source": [
    "# Retrieve data in the format necessary.\n",
    "\n",
    "revenue = [book.price * Sale.objects.filter(book_id=book.id).count() for book in Book.objects.all()]\n",
    "labels = [book.author for book in Book.objects.all()]\n",
    "\n",
    "plt.xticks(range(len(revenue)), labels, rotation='vertical')\n",
    "plt.xlabel('Book (Author)')\n",
    "plt.ylabel('Revenue [$]')\n",
    "plt.title('Revenue by Book')\n",
    "plt.bar(range(len(revenue)), revenue) \n",
    "plt.show()"
   ]
  },
  {
   "cell_type": "markdown",
   "id": "functional-cache",
   "metadata": {},
   "source": [
    "Great! Now suppose we want a plot to show how the sales have varied through time for each of the books. Let's look at the sales for each book each year. We'll use a [pandas](https://pandas.pydata.org/) dataframe to structure our data."
   ]
  },
  {
   "cell_type": "code",
   "execution_count": null,
   "id": "medical-mission",
   "metadata": {},
   "outputs": [],
   "source": [
    "import pandas as pd"
   ]
  },
  {
   "cell_type": "code",
   "execution_count": null,
   "id": "periodic-fitting",
   "metadata": {},
   "outputs": [],
   "source": [
    "# Create data frame of sales\n",
    "revenue_df = pd.DataFrame()\n",
    "years = list(range(2010, datetime.now(tz=pytz.UTC).year))\n",
    "\n",
    "for book in Book.objects.all():\n",
    "    sales = [round(book.price * Sale.objects.filter(book_id=book.id).filter(sold_at__year=year).count(), 2) for year in years]\n",
    "    revenue_df[book.title] = sales"
   ]
  },
  {
   "cell_type": "code",
   "execution_count": null,
   "id": "suited-grant",
   "metadata": {},
   "outputs": [],
   "source": [
    "# Plotting data frame\n",
    "\n",
    "years = list(range(2010, datetime.now(tz=pytz.UTC).year))\n",
    "\n",
    "for (col_name, col_data) in revenue_df.iteritems(): \n",
    "    plt.plot(years, col_data, label=col_name)\n",
    "    plt.scatter(years, col_data)\n",
    "    \n",
    "plt.rcParams['figure.figsize'] = [20, 10]\n",
    "plt.title('Revenue across the years by book')\n",
    "plt.xlabel('Book (Author)')\n",
    "plt.ylabel('Revenue [$]')\n",
    "plt.legend()\n",
    "plt.show()"
   ]
  },
  {
   "cell_type": "markdown",
   "id": "fixed-rachel",
   "metadata": {},
   "source": [
    "Cool, so we can see the sales appear to be sort of random which is what we expect since we generated them with a random generator lol."
   ]
  },
  {
   "cell_type": "markdown",
   "id": "detected-arcade",
   "metadata": {},
   "source": [
    "# Wrapping up"
   ]
  },
  {
   "cell_type": "markdown",
   "id": "scheduled-swedish",
   "metadata": {},
   "source": [
    "Great! So in this tutorial we've learned how to:\n",
    "\n",
    "* Perform database queries through the Django ORM\n",
    "* Write to the database\n",
    "* Update data in the database\n",
    "* Structure complex queries for analysis\n",
    "\n",
    "Hopefully it's been valuable for you to go through this. Feel free to contact me if you have any feedback."
   ]
  },
  {
   "cell_type": "code",
   "execution_count": null,
   "id": "homeless-cisco",
   "metadata": {},
   "outputs": [],
   "source": []
  }
 ],
 "metadata": {
  "kernelspec": {
   "display_name": "Python 3",
   "language": "python",
   "name": "python3"
  },
  "language_info": {
   "codemirror_mode": {
    "name": "ipython",
    "version": 3
   },
   "file_extension": ".py",
   "mimetype": "text/x-python",
   "name": "python",
   "nbconvert_exporter": "python",
   "pygments_lexer": "ipython3",
   "version": "3.9.1"
  }
 },
 "nbformat": 4,
 "nbformat_minor": 5
}
